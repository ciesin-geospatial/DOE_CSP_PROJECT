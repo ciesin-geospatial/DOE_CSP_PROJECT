{
 "cells": [
  {
   "cell_type": "code",
   "execution_count": 12,
   "metadata": {},
   "outputs": [
    {
     "data": {
      "text/html": [
       "<div>\n",
       "<style scoped>\n",
       "    .dataframe tbody tr th:only-of-type {\n",
       "        vertical-align: middle;\n",
       "    }\n",
       "\n",
       "    .dataframe tbody tr th {\n",
       "        vertical-align: top;\n",
       "    }\n",
       "\n",
       "    .dataframe thead th {\n",
       "        text-align: right;\n",
       "    }\n",
       "</style>\n",
       "<table border=\"1\" class=\"dataframe\">\n",
       "  <thead>\n",
       "    <tr style=\"text-align: right;\">\n",
       "      <th></th>\n",
       "      <th>lat</th>\n",
       "      <th>lon</th>\n",
       "      <th>Name</th>\n",
       "      <th>Operator</th>\n",
       "      <th>ID</th>\n",
       "    </tr>\n",
       "  </thead>\n",
       "  <tbody>\n",
       "    <tr>\n",
       "      <td>0</td>\n",
       "      <td>33.59267624990906,33.59333806909666,33.5937084...</td>\n",
       "      <td>-117.06409342307296,-117.06450704376505,-117.0...</td>\n",
       "      <td>San Diego Canal</td>\n",
       "      <td>Metropolitan Water District</td>\n",
       "      <td>1</td>\n",
       "    </tr>\n",
       "    <tr>\n",
       "      <td>1</td>\n",
       "      <td>33.46558385421156,33.460028990145815,33.457028...</td>\n",
       "      <td>-117.12303070830052,-117.12777050420539,-117.1...</td>\n",
       "      <td>Rainbow Creek</td>\n",
       "      <td>San Diego County Water Authority</td>\n",
       "      <td>2</td>\n",
       "    </tr>\n",
       "    <tr>\n",
       "      <td>2</td>\n",
       "      <td>33.51464127647381,33.517617746461895,33.520465...</td>\n",
       "      <td>-117.11950795502804,-117.11474110841539,-117.1...</td>\n",
       "      <td>Rainbow Creek</td>\n",
       "      <td>San Diego County Water Authority</td>\n",
       "      <td>3</td>\n",
       "    </tr>\n",
       "    <tr>\n",
       "      <td>3</td>\n",
       "      <td>32.89709840037091,32.90157990828618,32.9038479...</td>\n",
       "      <td>-116.93438933320112,-116.93772570557684,-116.9...</td>\n",
       "      <td>San Diego Aqueduct</td>\n",
       "      <td>San Diego County Water Authority</td>\n",
       "      <td>4</td>\n",
       "    </tr>\n",
       "    <tr>\n",
       "      <td>4</td>\n",
       "      <td>33.51464127647381,33.509336417641634,33.502031...</td>\n",
       "      <td>-117.11950795502804,-117.11966128494032,-117.1...</td>\n",
       "      <td>San Diego Aqueduct</td>\n",
       "      <td>San Diego County Water Authority</td>\n",
       "      <td>4</td>\n",
       "    </tr>\n",
       "  </tbody>\n",
       "</table>\n",
       "</div>"
      ],
      "text/plain": [
       "                                                 lat  \\\n",
       "0  33.59267624990906,33.59333806909666,33.5937084...   \n",
       "1  33.46558385421156,33.460028990145815,33.457028...   \n",
       "2  33.51464127647381,33.517617746461895,33.520465...   \n",
       "3  32.89709840037091,32.90157990828618,32.9038479...   \n",
       "4  33.51464127647381,33.509336417641634,33.502031...   \n",
       "\n",
       "                                                 lon                Name  \\\n",
       "0  -117.06409342307296,-117.06450704376505,-117.0...     San Diego Canal   \n",
       "1  -117.12303070830052,-117.12777050420539,-117.1...       Rainbow Creek   \n",
       "2  -117.11950795502804,-117.11474110841539,-117.1...       Rainbow Creek   \n",
       "3  -116.93438933320112,-116.93772570557684,-116.9...  San Diego Aqueduct   \n",
       "4  -117.11950795502804,-117.11966128494032,-117.1...  San Diego Aqueduct   \n",
       "\n",
       "                           Operator  ID  \n",
       "0       Metropolitan Water District   1  \n",
       "1  San Diego County Water Authority   2  \n",
       "2  San Diego County Water Authority   3  \n",
       "3  San Diego County Water Authority   4  \n",
       "4  San Diego County Water Authority   4  "
      ]
     },
     "execution_count": 12,
     "metadata": {},
     "output_type": "execute_result"
    }
   ],
   "source": [
    "import pandas as pd\n",
    "df = pd.read_csv('./app./GISdata/canals.csv')\n",
    "df.head()"
   ]
  },
  {
   "cell_type": "code",
   "execution_count": 13,
   "metadata": {},
   "outputs": [
    {
     "data": {
      "text/plain": [
       "count                                                   432\n",
       "unique                                                  428\n",
       "top       36.78307442124759,36.78300848835113,36.7829742...\n",
       "freq                                                      2\n",
       "Name: lat, dtype: object"
      ]
     },
     "execution_count": 13,
     "metadata": {},
     "output_type": "execute_result"
    }
   ],
   "source": [
    "df.lat.describe()"
   ]
  },
  {
   "cell_type": "code",
   "execution_count": 45,
   "metadata": {},
   "outputs": [],
   "source": [
    "test = df.lat.str.split(',')"
   ]
  },
  {
   "cell_type": "code",
   "execution_count": 46,
   "metadata": {},
   "outputs": [],
   "source": [
    "test2 = []\n",
    "for t in test:\n",
    "    test2.append([float(i) for i in t])\n"
   ]
  },
  {
   "cell_type": "code",
   "execution_count": 48,
   "metadata": {},
   "outputs": [
    {
     "data": {
      "text/plain": [
       "432"
      ]
     },
     "execution_count": 48,
     "metadata": {},
     "output_type": "execute_result"
    }
   ],
   "source": [
    "len(test2)"
   ]
  },
  {
   "cell_type": "code",
   "execution_count": 49,
   "metadata": {},
   "outputs": [],
   "source": [
    "longs = []\n",
    "tmp = df.lon.str.split(',')"
   ]
  },
  {
   "cell_type": "code",
   "execution_count": 50,
   "metadata": {},
   "outputs": [
    {
     "data": {
      "text/plain": [
       "432"
      ]
     },
     "execution_count": 50,
     "metadata": {},
     "output_type": "execute_result"
    }
   ],
   "source": [
    "for t in tmp:\n",
    "    longs.append([float(i) for i in t])\n",
    "    \n",
    "len(longs)"
   ]
  },
  {
   "cell_type": "code",
   "execution_count": null,
   "metadata": {},
   "outputs": [],
   "source": []
  }
 ],
 "metadata": {
  "kernelspec": {
   "display_name": "Python 3",
   "language": "python",
   "name": "python3"
  },
  "language_info": {
   "codemirror_mode": {
    "name": "ipython",
    "version": 3
   },
   "file_extension": ".py",
   "mimetype": "text/x-python",
   "name": "python",
   "nbconvert_exporter": "python",
   "pygments_lexer": "ipython3",
   "version": "3.6.9"
  }
 },
 "nbformat": 4,
 "nbformat_minor": 2
}
